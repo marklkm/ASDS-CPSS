{
 "cells": [
  {
   "cell_type": "markdown",
   "metadata": {},
   "source": [
    "# Exercise 1: Slicing\n",
    "\n",
    "Using only slicing operations create words 'dish', 'wash', 'he' and 'saw' out of the word 'dishwasher'. Finally, reverse the order of letters in the word (spell it backwards). Print the results.\n"
   ]
  },
  {
   "cell_type": "code",
   "execution_count": 1,
   "metadata": {},
   "outputs": [
    {
     "name": "stdout",
     "output_type": "stream",
     "text": [
      "dish\n",
      "dish\n",
      "wash\n",
      "wash\n",
      "he\n",
      "he\n",
      "saw\n",
      "saw\n",
      "rehsawhsid\n"
     ]
    }
   ],
   "source": [
    "# Excercise 1:\n",
    "\n",
    "dishwasher = 'dishwasher'\n",
    "\n",
    "# my code\n",
    "\n",
    "s1 = slice(0,4)\n",
    "print(dishwasher[s1])\n",
    "print(dishwasher[0:4])\n",
    "\n",
    "s2 = slice(4,8)\n",
    "print(dishwasher[s2])\n",
    "print(dishwasher[4:8])\n",
    "\n",
    "s3 = slice(7,9)\n",
    "print(dishwasher[s3])\n",
    "print(dishwasher[7:9])\n",
    "\n",
    "# -1 is an increment or step of 1 and slice(start, end, stop)\n",
    "s4 = slice(-4,-7,-1)\n",
    "print(dishwasher[s4])\n",
    "print(dishwasher[-4:-7:-1])\n",
    "\n",
    "# reverse order of letters in the word (spell it backwards)\n",
    "print(dishwasher[::-1])"
   ]
  },
  {
   "cell_type": "markdown",
   "metadata": {},
   "source": [
    "# Exercise 2: String methods\n",
    "Remove trailing whitespaces (before and after the sentence) in the string below. Replace all double whitespaces with one. Format it as a sentence with correct punctuation. Print the result."
   ]
  },
  {
   "cell_type": "code",
   "execution_count": 2,
   "metadata": {},
   "outputs": [
    {
     "name": "stdout",
     "output_type": "stream",
     "text": [
      "truth can only be found in one place: the code\n"
     ]
    }
   ],
   "source": [
    "# Exercise 2:\n",
    "\n",
    "s = \"   truth  can  only be  found in  one place:  the  code \"\n",
    "\n",
    "# my code\n",
    "\n",
    "# add a single space with ' ' and using the join() method\n",
    "' '.join(s.split())\n",
    "print(' '.join(s.split()))\n"
   ]
  },
  {
   "cell_type": "markdown",
   "metadata": {},
   "source": [
    "# Exercise 3: List methods\n",
    "\n",
    "Below is a shuffled version of the first 11 elements of Fibonacci sequence. Create a copy of the shuffled list, remove the last element and sort it from smaller integers to larger. Select the second smallest and the third largest integers in the sequence. Print them out. Replace them in the list with the string, containing word corresponding to that number (e.g. 'two' for 2). Print out the results."
   ]
  },
  {
   "cell_type": "code",
   "execution_count": 3,
   "metadata": {},
   "outputs": [
    {
     "name": "stdout",
     "output_type": "stream",
     "text": [
      "[34, 5, 3, 1, 13, 55, 21, 2, 8, 0, 1]\n",
      "[34, 5, 3, 1, 13, 55, 21, 2, 8, 0]\n",
      "[0, 1, 2, 3, 5, 8, 13, 21, 34, 55]\n",
      "Second smallest is  1\n",
      "Third largest is  21\n",
      "[0, 'one', 2, 3, 5, 8, 13, 'twenty one', 34, 55]\n"
     ]
    }
   ],
   "source": [
    "# Exercise 3:\n",
    "\n",
    "fib_shuffled = [34, 5, 3, 1, 13, 55, 21, 2, 8, 0, 1]\n",
    "\n",
    "# my code\n",
    "\n",
    "# create a copy\n",
    "fib_copy = fib_shuffled.copy()\n",
    "print(fib_copy)\n",
    "\n",
    "# remove the last element using the pop() method\n",
    "fib_shuffled.pop()\n",
    "print(fib_shuffled)\n",
    "\n",
    "# sort from smaller integers to larger. This uses the sort() method\n",
    "fib_shuffled.sort()\n",
    "print(fib_shuffled)\n",
    "\n",
    "# select the second smallest and third largest in the sequence\n",
    "fib_length = len(fib_shuffled)\n",
    "fib_shuffled.sort()\n",
    "print(\"Second smallest is \", fib_shuffled[1])\n",
    "print(\"Third largest is \", fib_shuffled[-3])\n",
    "\n",
    "# Replace them in the list with the string, containing word corresponding to that number (e.g. 'two' for 2)\n",
    "# fib_extend = [\"one\", \"twenty one\"]\n",
    "#fib_shuffled.extend(fib_extend)\n",
    "fib_shuffled = ['one' if i == 1 else i for i in fib_shuffled]\n",
    "fib_shuffled = ['twenty one' if i == 21 else i for i in fib_shuffled]\n",
    "print(fib_shuffled)\n"
   ]
  },
  {
   "cell_type": "markdown",
   "metadata": {},
   "source": [
    "# Exercise 4: Set methods\n",
    "\n",
    "Create a set called visegrad, which includes all the countries from the Visegrád Group. Create lists baltic and benelux with respective countries. Convert them into sets. Create a union of these states and countries from the Visegrád Group."
   ]
  },
  {
   "cell_type": "code",
   "execution_count": 4,
   "metadata": {},
   "outputs": [
    {
     "name": "stdout",
     "output_type": "stream",
     "text": [
      "{'Czech Republic', 'Poland', 'Hungary', 'Slovakia'}\n",
      "['Estonia', 'Latvia', 'Lithuania']\n",
      "['Belgium', 'The Netherlands', 'Luxembourg']\n",
      "Convert the lists into sets: [{'Latvia', 'Lithuania', 'Estonia'}, {'The Netherlands', 'Luxembourg', 'Belgium'}]\n",
      "{'Luxembourg', 'Latvia', 'Lithuania', 'Estonia', 'The Netherlands', 'Belgium'}\n"
     ]
    }
   ],
   "source": [
    "# Exercise 4:\n",
    "\n",
    "# my code\n",
    "\n",
    "# set called viseguard that includes all the countries from the Visegrád Group \n",
    "visegrad = {'Poland', 'Czech Republic', 'Hungary', 'Slovakia'}\n",
    "print(visegrad)\n",
    "\n",
    "# Lists for baltic and benelux with respective countries\n",
    "baltic = ['Estonia', 'Latvia', 'Lithuania']\n",
    "print(baltic)\n",
    "benelux = ['Belgium', 'The Netherlands', 'Luxembourg']\n",
    "print(benelux)\n",
    "\n",
    "# Convert then into sets\n",
    "my_lists = [['Estonia', 'Latvia', 'Lithuania'], ['Belgium', 'The Netherlands', 'Luxembourg']]\n",
    "convert_list = [set(lists) for lists in my_lists]\n",
    "print(\"Convert the lists into sets: \" + str(convert_list))\n",
    "\n",
    "# Create a union of these states and countries from the Visegrád Group\n",
    "baltic = {'Estonia', 'Latvia', 'Lithuania'}\n",
    "benelux = {'Belgium', 'The Netherlands', 'Luxembourg'}\n",
    "my_union = baltic.union(benelux)\n",
    "print(my_union)"
   ]
  },
  {
   "cell_type": "markdown",
   "metadata": {},
   "source": [
    "# Exercise 5: Library problem\n",
    "\n",
    "Imagine you are tasked to help a local library organise their book catalogue. Users and librarians would need to be able to search by authors and by book titles, without always knowing both of those. For simplicity, let's assume that books in catalogues are organised by author (and not by book code).\n",
    "\n",
    "Describe in your own words what built-in data structure(s) in Python you would use to design such a system.\n",
    "\n",
    "Implement a mock-up of such system using a couple of author-book examples of your choice."
   ]
  },
  {
   "cell_type": "code",
   "execution_count": 5,
   "metadata": {},
   "outputs": [
    {
     "name": "stdout",
     "output_type": "stream",
     "text": [
      "{'author': 'Robert Frost', 'book title': 'The Collected Poems'}\n",
      "{'entry_1': {'author': 'Frank McGuinness', 'book title': 'White City'}, 'entry_2': {'author': 'Sally Rooney', 'book title': 'Normal People'}, 'entry_3': {'author': 'Colum McCann', 'book title': 'Let The Great World Spin'}}\n",
      "{'author': 'Colum McCann', 'book title': 'Let The Great World Spin'}\n",
      "dict_items([('entry_1', {'author': 'Frank McGuinness', 'book title': 'White City'}), ('entry_2', {'author': 'Sally Rooney', 'book title': 'Normal People'}), ('entry_3', {'author': 'Colum McCann', 'book title': 'Let The Great World Spin'})])\n"
     ]
    }
   ],
   "source": [
    "# Exercise 5:\n",
    "\n",
    "# my code and text\n",
    "\n",
    "# I would use a Python dictionaries that can be used to store data in key:value pairs. \n",
    "# An example of a key:value pair for this would be \"authors\" and \"book titles\"\n",
    "\n",
    "# The example below shows how this key:value pair might look like is\n",
    "catalogue = {\n",
    "    \"author\": \"Robert Frost\",\n",
    "    \"book title\": \"The Collected Poems\"\n",
    "}\n",
    "\n",
    "\n",
    "# I could extend this further for multiple authors and book titles. \n",
    "# This is my idea for a mock-up system using a dictionary.\n",
    "book_catalogue = {\n",
    "    \"entry_1\": {\n",
    "        \"author\": \"Frank McGuinness\",\n",
    "        \"book title\": \"White City\"\n",
    "    },\n",
    "    \n",
    "    \"entry_2\": {\n",
    "        \"author\": \"Sally Rooney\",\n",
    "        \"book title\": \"Normal People\"\n",
    "    },\n",
    "    \n",
    "    \"entry_3\": {\n",
    "        \"author\": \"Colum McCann\",\n",
    "        \"book title\": \"Let The Great World Spin\"\n",
    "    }\n",
    "} \n",
    "\n",
    "print(catalogue)\n",
    "print(book_catalogue)\n",
    "print(book_catalogue[\"entry_3\"])\n",
    "# this is a way to access the items in the dictionary\n",
    "print(book_catalogue.items())\n"
   ]
  },
  {
   "cell_type": "code",
   "execution_count": null,
   "metadata": {},
   "outputs": [],
   "source": []
  }
 ],
 "metadata": {
  "kernelspec": {
   "display_name": "Python 3",
   "language": "python",
   "name": "python3"
  },
  "language_info": {
   "codemirror_mode": {
    "name": "ipython",
    "version": 3
   },
   "file_extension": ".py",
   "mimetype": "text/x-python",
   "name": "python",
   "nbconvert_exporter": "python",
   "pygments_lexer": "ipython3",
   "version": "3.7.4"
  }
 },
 "nbformat": 4,
 "nbformat_minor": 2
}
